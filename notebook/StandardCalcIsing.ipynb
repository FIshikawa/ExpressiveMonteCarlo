{
 "cells": [
  {
   "cell_type": "markdown",
   "metadata": {},
   "source": [
    "## Standard calculation of Ising on simple chain"
   ]
  },
  {
   "cell_type": "code",
   "execution_count": 1,
   "metadata": {},
   "outputs": [],
   "source": [
    "import numpy as np"
   ]
  },
  {
   "cell_type": "code",
   "execution_count": 8,
   "metadata": {},
   "outputs": [],
   "source": [
    "num_particles = 5\n",
    "J = -1.0\n",
    "T = 3.0\n",
    "K = J/T"
   ]
  },
  {
   "cell_type": "code",
   "execution_count": 9,
   "metadata": {},
   "outputs": [
    {
     "name": "stdout",
     "output_type": "stream",
     "text": [
      "transfer_matrix : \n",
      "[[1.39561243 0.71653131]\n",
      " [0.71653131 1.39561243]]\n"
     ]
    }
   ],
   "source": [
    "transfer_matrix = np.array([[np.exp(-K),np.exp(K)],[np.exp(K),np.exp(-K)]])\n",
    "print('transfer_matrix : ')\n",
    "print(transfer_matrix)"
   ]
  },
  {
   "cell_type": "code",
   "execution_count": 10,
   "metadata": {},
   "outputs": [
    {
     "name": "stdout",
     "output_type": "stream",
     "text": [
      "Z :  42.180023014376275\n"
     ]
    }
   ],
   "source": [
    "Z_mat = transfer_matrix\n",
    "for _ in range(num_particles-1):\n",
    "    Z_mat = np.matmul(transfer_matrix,Z_mat)\n",
    "Z = np.trace(Z_mat)\n",
    "print('Z : ',Z)"
   ]
  },
  {
   "cell_type": "code",
   "execution_count": 11,
   "metadata": {},
   "outputs": [
    {
     "name": "stdout",
     "output_type": "stream",
     "text": [
      "Z :  42.180023014376275\n"
     ]
    }
   ],
   "source": [
    "def partition_func(T):\n",
    "    K = J / T\n",
    "    transfer_matrix = np.array([[np.exp(-K),np.exp(K)],[np.exp(K),np.exp(-K)]])\n",
    "    Z_mat = transfer_matrix\n",
    "    for _ in range(num_particles-1):\n",
    "        Z_mat = np.matmul(transfer_matrix,Z_mat)\n",
    "    Z = np.trace(Z_mat)\n",
    "    return Z\n",
    "Z = partition_func(T)\n",
    "print('Z : ',Z)"
   ]
  },
  {
   "cell_type": "code",
   "execution_count": 12,
   "metadata": {},
   "outputs": [
    {
     "name": "stdout",
     "output_type": "stream",
     "text": [
      "temperture :  3.0\n",
      "3.7417628900177964\n",
      "3.742130735459306\n",
      "internal energy :  -1.6553044867926303\n"
     ]
    }
   ],
   "source": [
    "# mid-diff\n",
    "dT = 0.001\n",
    "def mid_diff(func,point,diff):\n",
    "    return (func(point+diff)-func(point-diff))/(2*diff)\n",
    "\n",
    "logZ = lambda T : np.log(partition_func(T))\n",
    "print('temperture : ',T)\n",
    "print(logZ(T+dT))\n",
    "print(logZ(T-dT))\n",
    "\n",
    "internal_energy = 1.0*T**2 * mid_diff(logZ,T,dT)\n",
    "print('internal energy : ',internal_energy)"
   ]
  },
  {
   "cell_type": "markdown",
   "metadata": {},
   "source": [
    "## Naive calc"
   ]
  },
  {
   "cell_type": "code",
   "execution_count": 14,
   "metadata": {},
   "outputs": [
    {
     "name": "stdout",
     "output_type": "stream",
     "text": [
      "test E :  -5.0\n",
      "Z :  42.180023014376275\n",
      "E_weighted :  -69.82076577127886\n",
      "internal energy :  -1.6553041174842829\n"
     ]
    }
   ],
   "source": [
    "J = -1.0\n",
    "T = 3.0\n",
    "num_particles = 5\n",
    "\n",
    "spins = np.ones(num_particles)\n",
    "def hamiltonian(s1,s2,s3,s4,s5):\n",
    "    return J * (s1*s2 + s2*s3 + s3*s4 + s4*s5 + s5*s1)\n",
    "\n",
    "print('test E : ',hamiltonian(1,1,1,1,1))\n",
    "\n",
    "def rho_nume(s1,s2,s3,s4,s5):\n",
    "    return np.exp(-1/T*hamiltonian(s1,s2,s3,s4,s5))\n",
    "\n",
    "Z = E_weighted = 0\n",
    "for s1 in [-1,1]:\n",
    "    for s2 in [-1,1]:\n",
    "        for s3 in [-1,1]:\n",
    "            for s4 in [-1,1]:\n",
    "                for s5 in [-1,1]:\n",
    "                    Z += rho_nume(s1,s2,s3,s4,s5)\n",
    "                    E_weighted +=  hamiltonian(s1,s2,s3,s4,s5) * rho_nume(s1,s2,s3,s4,s5)\n",
    "\n",
    "internal_energy = E_weighted / Z\n",
    "print('Z : ',Z)\n",
    "print('E_weighted : ',E_weighted)\n",
    "print('internal energy : ', internal_energy)\n"
   ]
  }
 ],
 "metadata": {
  "kernelspec": {
   "display_name": "pytorch_env",
   "language": "python",
   "name": "pytorch_env"
  },
  "language_info": {
   "codemirror_mode": {
    "name": "ipython",
    "version": 3
   },
   "file_extension": ".py",
   "mimetype": "text/x-python",
   "name": "python",
   "nbconvert_exporter": "python",
   "pygments_lexer": "ipython3",
   "version": "3.6.5"
  }
 },
 "nbformat": 4,
 "nbformat_minor": 2
}
